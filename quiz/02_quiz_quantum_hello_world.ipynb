{
 "cells": [
  {
   "cell_type": "markdown",
   "metadata": {},
   "source": [
    "## Making a Quantum computer 'smile'\n",
    "\n",
    "Notebook Credit: Dr. James Wootton. \n",
    "Reference: https://medium.com/qiskit/making-a-quantum-computer-smile-cee86a6fc1de \n"
   ]
  },
  {
   "cell_type": "code",
   "execution_count": null,
   "metadata": {},
   "outputs": [],
   "source": [
    "from qiskit import QuantumCircuit, ClassicalRegister, QuantumRegister\n",
    "from qiskit import execute, Aer, IBMQ\n",
    "from qiskit.tools.visualization import plot_histogram , circuit_drawer"
   ]
  },
  {
   "cell_type": "code",
   "execution_count": null,
   "metadata": {},
   "outputs": [],
   "source": [
    "qr = QuantumRegister(16)\n",
    "cr = ClassicalRegister(16)\n",
    "qc = QuantumCircuit(qr, cr)\n"
   ]
  },
  {
   "cell_type": "code",
   "execution_count": null,
   "metadata": {},
   "outputs": [],
   "source": [
    "import bitarray\n",
    "s1 = \";)\"\n",
    "s2 = \"8)\"\n",
    "\n",
    "b1 = bitarray.bitarray()\n",
    "b1.fromstring(s1)\n",
    "\n",
    "b2 = bitarray.bitarray()\n",
    "b2.fromstring(s2)\n",
    "\n",
    "# print the bit sequences\n",
    "print(\"b1 =\", b1)\n",
    "print(\"b2 =\", b2)"
   ]
  },
  {
   "cell_type": "code",
   "execution_count": null,
   "metadata": {},
   "outputs": [],
   "source": [
    "# qr[0] ---->     qr[15]\n",
    "# 0011 1011 0010 1001\" # s1 bit sequence\n",
    "# 0011 1000 0010 1001\" #s2 bit sequence\n",
    "\n",
    "# Notice the difference between s1 and s2 -- bits 7 (qr[6]) and 8 (qr[7]) are different. \n",
    "# 11 (s1)\n",
    "# 00 (s2)\n",
    "# All other bits are identical\n",
    "\n",
    "# First take care of all other qubits  -- APPLY x gates for appropriate qubits\n",
    "\n",
    "# YOUR CODE HERE:\n",
    "\n",
    "\n",
    "\n",
    "# We want both qr[6],qr[7] as 00 or 11 to get either 8 or ; respectively. \n",
    "# Apply a controlled-NOT gate between 6 and 7 , so that when qubit 6 is \"1\", 7 also becomes 1\n",
    "\n",
    "# YOUR CODE HERE:\n",
    "\n",
    "\n",
    "# MEASURE:\n",
    "\n",
    "\n",
    "# DRAW Circuit\n",
    "\n",
    "\n"
   ]
  },
  {
   "cell_type": "code",
   "execution_count": null,
   "metadata": {},
   "outputs": [],
   "source": [
    "# SET THE API:\n",
    "\n",
    "\n",
    "# EXECUTE ON REMOTE BACKEND:\n"
   ]
  },
  {
   "cell_type": "code",
   "execution_count": null,
   "metadata": {},
   "outputs": [],
   "source": [
    "# Results:\n",
    "result.status()\n",
    "stats = result.result().get_counts()\n",
    "plot_histogram(stats)"
   ]
  }
 ],
 "metadata": {
  "kernelspec": {
   "display_name": "Python 3",
   "language": "python",
   "name": "python3"
  },
  "language_info": {
   "codemirror_mode": {
    "name": "ipython",
    "version": 3
   },
   "file_extension": ".py",
   "mimetype": "text/x-python",
   "name": "python",
   "nbconvert_exporter": "python",
   "pygments_lexer": "ipython3",
   "version": "3.6.5"
  }
 },
 "nbformat": 4,
 "nbformat_minor": 2
}
