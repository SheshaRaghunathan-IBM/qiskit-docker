{
 "cells": [
  {
   "cell_type": "markdown",
   "metadata": {},
   "source": [
    "### QISkit Example 05: Selecting a Backend\n",
    "* Qconfig.py\n",
    "* Set up the API token\n",
    "* Know the available backends\n",
    "* Execute a job using IBM cloud hosted simulator"
   ]
  },
  {
   "cell_type": "code",
   "execution_count": null,
   "metadata": {},
   "outputs": [],
   "source": [
    "# Creating quantum circuits\n",
    "from qiskit import QuantumRegister, QuantumCircuit, ClassicalRegister\n",
    "from qiskit.tools.visualization import circuit_drawer\n",
    "\n",
    "qr =  QuantumRegister(1)\n",
    "cr = ClassicalRegister(1)\n",
    "qc = QuantumCircuit(qr, cr)"
   ]
  },
  {
   "cell_type": "code",
   "execution_count": null,
   "metadata": {},
   "outputs": [],
   "source": [
    "# Apply a single H gate\n",
    "qc.h(qr)\n",
    "qc.measure(qr, cr)\n",
    "circuit_drawer(qc)"
   ]
  },
  {
   "cell_type": "code",
   "execution_count": null,
   "metadata": {},
   "outputs": [],
   "source": [
    "import os\n",
    "from qiskit import register, execute, available_backends\n",
    "\n",
    "print(\"Before registering API token, available backends: \")\n",
    "available_backends()\n",
    "\n",
    "# Copy your API token from the Quantum Experience website. \n",
    "qx_config = {\n",
    "  \"APItoken\": os.getenv('QX_API_TOKEN'),\n",
    "  \"url\": 'https://quantumexperience.ng.bluemix.net/api'\n",
    "}\n",
    "\n",
    "# Set the api\n",
    "register(qx_config['APItoken'], qx_config['url'])\n",
    "\n",
    "print(\"Before registering API token, available backends: \")\n",
    "available_backends()"
   ]
  },
  {
   "cell_type": "code",
   "execution_count": null,
   "metadata": {},
   "outputs": [],
   "source": [
    "# Run the circuit using local simulator \n",
    "job = execute(qc, backend=\"local_qasm_simulator\", shots=100)\n",
    "\n",
    "result = job.result()\n",
    "counts = result.get_counts()\n",
    "plot_histogram(counts)\n",
    "print(counts)"
   ]
  },
  {
   "cell_type": "code",
   "execution_count": null,
   "metadata": {},
   "outputs": [],
   "source": [
    "# Run the circuit using the cloud simulator\n",
    "job = execute(qc, backend=\"ibmq_qasm_simulator\")\n",
    "\n",
    "result_cloud = job.result()\n",
    "counts = result.get_counts()\n",
    "plot_histogram(counts)\n",
    "print(counts)"
   ]
  }
 ],
 "metadata": {
  "kernelspec": {
   "display_name": "Python 3",
   "language": "python",
   "name": "python3"
  },
  "language_info": {
   "codemirror_mode": {
    "name": "ipython",
    "version": 3
   },
   "file_extension": ".py",
   "mimetype": "text/x-python",
   "name": "python",
   "nbconvert_exporter": "python",
   "pygments_lexer": "ipython3",
   "version": "3.6.5"
  }
 },
 "nbformat": 4,
 "nbformat_minor": 2
}
