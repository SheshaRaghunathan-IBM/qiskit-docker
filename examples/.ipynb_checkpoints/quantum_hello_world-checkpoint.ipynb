{
 "cells": [
  {
   "cell_type": "code",
   "execution_count": null,
   "metadata": {},
   "outputs": [],
   "source": [
    "from qiskit import QuantumCircuit, ClassicalRegister, QuantumRegister\n",
    "from qiskit import execute\n",
    "from qiskit.tools.visualization import plot_histogram , circuit_drawer"
   ]
  },
  {
   "cell_type": "code",
   "execution_count": null,
   "metadata": {},
   "outputs": [],
   "source": [
    "qr = QuantumRegister(16)\n",
    "cr = ClassicalRegister(16)\n",
    "qc = QuantumCircuit(qr, cr)\n"
   ]
  },
  {
   "cell_type": "code",
   "execution_count": null,
   "metadata": {},
   "outputs": [],
   "source": [
    "import bitarray\n",
    "s1 = \";)\"\n",
    "s2 = \"8)\"\n",
    "\n",
    "b1 = bitarray.bitarray()\n",
    "b1.fromstring(s1)\n",
    "\n",
    "b2 = bitarray.bitarray()\n",
    "b2.fromstring(s2)\n",
    "\n",
    "# print the bit sequences\n",
    "print(\"b1 =\", b1)\n",
    "print(\"b2 =\", b2)"
   ]
  },
  {
   "cell_type": "code",
   "execution_count": null,
   "metadata": {},
   "outputs": [],
   "source": [
    "# s1 bit sequence\n",
    "# q[0]    -->       q[15]\"\n",
    "# 0011 1011 0010 1001\"\n",
    "\n",
    "#s2 bit sequence\n",
    "\n",
    "# Notice the difference between s1 and s2 -- bits 7 (qr[6]) and 8 (qr[7]) are different. \n",
    "# 11 (s1)\n",
    "# 00 (s2)\n",
    "# All other bits are identical\n",
    "\n",
    "\n",
    "\n",
    "\n",
    "\n",
    "# We want both qr[6],qr[7] as 00 or 11 to get either 8 or ; respectively. \n",
    "# Apply a controlled not gate between 6 and 7 , so that when qubit 6 is \"1\", 7 also becomes 1\n",
    "    \n",
    "qc.cx(qr[6], qr[7])\n",
    "\n",
    "qc.measure(qr, cr)\n",
    "    \n",
    "circuit_drawer(qc)"
   ]
  },
  {
   "cell_type": "code",
   "execution_count": null,
   "metadata": {},
   "outputs": [],
   "source": [
    "# EXERCISE\n",
    "\n",
    "# Make this pattern : # 0011 1011 0010 1001\"\n",
    "# By applying appropriate transformations to all the qubits. IGNORE qubits qr[6] and qr[7]\n",
    "\n",
    "#for i in (2, 3, 4, 10,12, 15):\n",
    "#    qc.x(qr[i])\n",
    "\n",
    "# Apply a haddamard gate for qubit 6 (qr[6])\n",
    "#qc.h(qr[6])\n",
    "\n"
   ]
  },
  {
   "cell_type": "code",
   "execution_count": null,
   "metadata": {},
   "outputs": [],
   "source": [
    "import os\n",
    "from qiskit import register, execute, available_backends, get_backend\n",
    "qx_config = {\n",
    "  \"APItoken\": os.getenv('QX_API_TOKEN'),\n",
    "  \"url\": 'https://quantumexperience.ng.bluemix.net/api'\n",
    "}\n",
    "\n",
    "# Set the api\n",
    "register(qx_config['APItoken'], qx_config['url'])\n",
    "\n",
    "available_backends()\n",
    "\n",
    "result = execute(qc, backend=\"ibmq_qasm_simulator\")"
   ]
  },
  {
   "cell_type": "code",
   "execution_count": null,
   "metadata": {},
   "outputs": [],
   "source": [
    "result.status()\n",
    "stats = result.result().get_counts()\n",
    "plot_histogram(stats)"
   ]
  }
 ],
 "metadata": {
  "kernelspec": {
   "display_name": "Python 3",
   "language": "python",
   "name": "python3"
  },
  "language_info": {
   "codemirror_mode": {
    "name": "ipython",
    "version": 3
   },
   "file_extension": ".py",
   "mimetype": "text/x-python",
   "name": "python",
   "nbconvert_exporter": "python",
   "pygments_lexer": "ipython3",
   "version": "3.6.5"
  }
 },
 "nbformat": 4,
 "nbformat_minor": 2
}
